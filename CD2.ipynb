{
  "nbformat": 4,
  "nbformat_minor": 0,
  "metadata": {
    "colab": {
      "provenance": [],
      "authorship_tag": "ABX9TyM0YRMuRB+rCJGEhUqBs4Wc",
      "include_colab_link": true
    },
    "kernelspec": {
      "name": "python3",
      "display_name": "Python 3"
    },
    "language_info": {
      "name": "python"
    }
  },
  "cells": [
    {
      "cell_type": "markdown",
      "metadata": {
        "id": "view-in-github",
        "colab_type": "text"
      },
      "source": [
        "<a href=\"https://colab.research.google.com/github/kswathi2627/AUTOMATED-REPORT-GENERATION/blob/main/CD2.ipynb\" target=\"_parent\"><img src=\"https://colab.research.google.com/assets/colab-badge.svg\" alt=\"Open In Colab\"/></a>"
      ]
    },
    {
      "cell_type": "code",
      "execution_count": 2,
      "metadata": {
        "colab": {
          "base_uri": "https://localhost:8080/"
        },
        "id": "ji3pppv1tC7o",
        "outputId": "efcd14c2-d37c-4cdc-f739-2d9549eb3a23"
      },
      "outputs": [
        {
          "output_type": "stream",
          "name": "stdout",
          "text": [
            "Collecting reportlab\n",
            "  Downloading reportlab-4.4.3-py3-none-any.whl.metadata (1.7 kB)\n",
            "Requirement already satisfied: pillow>=9.0.0 in /usr/local/lib/python3.11/dist-packages (from reportlab) (11.3.0)\n",
            "Requirement already satisfied: charset-normalizer in /usr/local/lib/python3.11/dist-packages (from reportlab) (3.4.3)\n",
            "Downloading reportlab-4.4.3-py3-none-any.whl (2.0 MB)\n",
            "\u001b[2K   \u001b[90m━━━━━━━━━━━━━━━━━━━━━━━━━━━━━━━━━━━━━━━━\u001b[0m \u001b[32m2.0/2.0 MB\u001b[0m \u001b[31m21.3 MB/s\u001b[0m eta \u001b[36m0:00:00\u001b[0m\n",
            "\u001b[?25hInstalling collected packages: reportlab\n",
            "Successfully installed reportlab-4.4.3\n",
            "✅ Report generated successfully: automated_report.pdf\n"
          ]
        }
      ],
      "source": [
        "# Install reportlab (run this only once)\n",
        "!pip install reportlab\n",
        "\n",
        "import pandas as pd\n",
        "import matplotlib.pyplot as plt\n",
        "from reportlab.lib.pagesizes import A4\n",
        "from reportlab.lib import colors\n",
        "from reportlab.platypus import SimpleDocTemplate, Paragraph, Spacer, Table, TableStyle, Image\n",
        "from reportlab.lib.styles import getSampleStyleSheet\n",
        "\n",
        
        "# STEP 1: Load Data\n",
        
        "data = pd.DataFrame({\n",
        "    \"Name\": [\"Alice\", \"Bob\", \"Charlie\", \"David\", \"Eva\"],\n",
        "    \"Score\": [85, 90, 78, 92, 88]\n",
        "})\n",
        "\n",
        
        "# STEP 2: Data Analysis\n",
        
        "mean_score = data[\"Score\"].mean()\n",
        "max_score = data[\"Score\"].max()\n",
        "min_score = data[\"Score\"].min()\n",
        "\n",
      
        "# STEP 3: Visualization\n",
        
        "plt.figure(figsize=(6, 4))\n",
        "plt.bar(data[\"Name\"], data[\"Score\"], color=\"skyblue\")\n",
        "plt.title(\"Student Scores\")\n",
        "plt.xlabel(\"Students\")\n",
        "plt.ylabel(\"Scores\")\n",
        "plt.tight_layout()\n",
        "plt.savefig(\"chart.png\")\n",
        "plt.close()\n",
        "\n",
        
        "# STEP 4: Generate PDF Report\n",
        
        "pdf_file = \"automated_report.pdf\"\n",
        "doc = SimpleDocTemplate(pdf_file, pagesize=A4)\n",
        "styles = getSampleStyleSheet()\n",
        "elements = []\n",
        "\n",
        "# Title\n",
        "elements.append(Paragraph(\"Automated Report Generation\", styles['Title']))\n",
        "elements.append(Spacer(1, 12))\n",
        "\n",
        "# Summary\n",
        "summary_text = f\"\"\"\n",
        "This report provides an overview of student performance.\n",
        "<br/> <br/>\n",
        "<b>Average Score:</b> {mean_score:.2f} <br/>\n",
        "<b>Highest Score:</b> {max_score} <br/>\n",
        "<b>Lowest Score:</b> {min_score} <br/>\n",
        "\"\"\"\n",
        "elements.append(Paragraph(summary_text, styles['Normal']))\n",
        "elements.append(Spacer(1, 12))\n",
        "\n",
        "# Table\n",
        "table_data = [[\"Name\", \"Score\"]] + data.values.tolist()\n",
        "table = Table(table_data)\n",
        "table.setStyle(TableStyle([\n",
        "    ('BACKGROUND', (0, 0), (-1, 0), colors.lightblue),\n",
        "    ('TEXTCOLOR', (0, 0), (-1, 0), colors.black),\n",
        "    ('ALIGN', (0, 0), (-1, -1), 'CENTER'),\n",
        "    ('FONTNAME', (0, 0), (-1, 0), 'Helvetica-Bold'),\n",
        "    ('BOTTOMPADDING', (0, 0), (-1, 0), 12),\n",
        "    ('BACKGROUND', (0, 1), (-1, -1), colors.whitesmoke),\n",
        "    ('GRID', (0, 0), (-1, -1), 1, colors.black),\n",
        "]))\n",
        "elements.append(table)\n",
        "elements.append(Spacer(1, 20))\n",
        "\n",
        "# Chart\n",
        "elements.append(Paragraph(\"Score Distribution:\", styles['Heading2']))\n",
        "elements.append(Image(\"chart.png\", width=400, height=250))\n",
        "\n",
        "# Build PDF\n",
        "doc.build(elements)\n",
        "print(f\"✅ Report generated successfully: {pdf_file}\")\n"
      ]
    }
  ]
}
